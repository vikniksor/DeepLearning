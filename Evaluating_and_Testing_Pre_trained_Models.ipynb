{
  "nbformat": 4,
  "nbformat_minor": 0,
  "metadata": {
    "kernelspec": {
      "display_name": "Python 3",
      "language": "python",
      "name": "python3"
    },
    "language_info": {
      "codemirror_mode": {
        "name": "ipython",
        "version": 3
      },
      "file_extension": ".py",
      "mimetype": "text/x-python",
      "name": "python",
      "nbconvert_exporter": "python",
      "pygments_lexer": "ipython3",
      "version": "3.7.6"
    },
    "colab": {
      "name": "Evaluating_and_Testing_Pre-trained_Models_Max_Hausen.ipynb",
      "provenance": [],
      "collapsed_sections": []
    }
  },
  "cells": [
    {
      "cell_type": "markdown",
      "metadata": {
        "button": false,
        "new_sheet": false,
        "run_control": {
          "read_only": false
        },
        "id": "kHqiGv6b3W1G"
      },
      "source": [
        "## Introduction\n"
      ]
    },
    {
      "cell_type": "markdown",
      "metadata": {
        "button": false,
        "new_sheet": false,
        "run_control": {
          "read_only": false
        },
        "id": "3TUQQ5QW3W1J"
      },
      "source": [
        "In this lab, I will build an image concrete cruck classifier using the VGG16 pre-trained model, and will evaluate it and compare its performance to the model I built using the ResNet50 pre-trained model."
      ]
    },
    {
      "cell_type": "markdown",
      "metadata": {
        "button": false,
        "new_sheet": false,
        "run_control": {
          "read_only": false
        },
        "id": "KsPLmFU-3W1K"
      },
      "source": [
        "## Table of Contents\n",
        "\n",
        "<div class=\"alert alert-block alert-info\" style=\"margin-top: 20px\">\n",
        "\n",
        "<font size = 3>    \n",
        "\n",
        "1. <a href=\"#item41\">Download Data \n",
        "2. <a href=\"#item42\">Part 1</a>\n",
        "3. <a href=\"#item43\">Part 2</a>  \n",
        "4. <a href=\"#item44\">Part 3</a>  \n",
        "\n",
        "</font>\n",
        "    \n",
        "</div>"
      ]
    },
    {
      "cell_type": "markdown",
      "metadata": {
        "id": "TRLoyE8C3W1O"
      },
      "source": [
        "<a id=\"item41\"></a>"
      ]
    },
    {
      "cell_type": "markdown",
      "metadata": {
        "id": "3hOGjVDh3W1P"
      },
      "source": [
        "## Download Data"
      ]
    },
    {
      "cell_type": "markdown",
      "metadata": {
        "id": "5zMpz_UO3W1Q"
      },
      "source": [
        "Use the <code>wget</code> command to download the data for this assignment from here: https://s3-api.us-geo.objectstorage.softlayer.net/cf-courses-data/CognitiveClass/DL0321EN/data/concrete_data_week4.zip"
      ]
    },
    {
      "cell_type": "code",
      "metadata": {
        "colab": {
          "base_uri": "https://localhost:8080/"
        },
        "id": "sCsrDu7G3W1T",
        "outputId": "50e032f6-b1d3-4aed-80c3-c0ffd4cba03e"
      },
      "source": [
        "!wget https://s3-api.us-geo.objectstorage.softlayer.net/cf-courses-data/CognitiveClass/DL0321EN/data/concrete_data_week4.zip"
      ],
      "execution_count": null,
      "outputs": [
        {
          "output_type": "stream",
          "text": [
            "--2021-03-04 08:17:16--  https://s3-api.us-geo.objectstorage.softlayer.net/cf-courses-data/CognitiveClass/DL0321EN/data/concrete_data_week4.zip\n",
            "Resolving s3-api.us-geo.objectstorage.softlayer.net (s3-api.us-geo.objectstorage.softlayer.net)... 67.228.254.196\n",
            "Connecting to s3-api.us-geo.objectstorage.softlayer.net (s3-api.us-geo.objectstorage.softlayer.net)|67.228.254.196|:443... connected.\n",
            "HTTP request sent, awaiting response... 200 OK\n",
            "Length: 261483817 (249M) [application/zip]\n",
            "Saving to: ‘concrete_data_week4.zip’\n",
            "\n",
            "concrete_data_week4 100%[===================>] 249.37M  31.0MB/s    in 7.6s    \n",
            "\n",
            "2021-03-04 08:17:24 (32.7 MB/s) - ‘concrete_data_week4.zip’ saved [261483817/261483817]\n",
            "\n"
          ],
          "name": "stdout"
        }
      ]
    },
    {
      "cell_type": "code",
      "metadata": {
        "id": "fQaxBRhl3jtZ"
      },
      "source": [
        "!unzip concrete_data_week4.zip"
      ],
      "execution_count": null,
      "outputs": []
    },
    {
      "cell_type": "markdown",
      "metadata": {
        "button": false,
        "new_sheet": false,
        "run_control": {
          "read_only": false
        },
        "id": "_-A_-Fv53W1Y"
      },
      "source": [
        "<a id=\"item42\"></a>"
      ]
    },
    {
      "cell_type": "markdown",
      "metadata": {
        "id": "kY_Ife2x3W1Z"
      },
      "source": [
        "## Part 1"
      ]
    },
    {
      "cell_type": "code",
      "metadata": {
        "id": "N8Vz0av63W1d"
      },
      "source": [
        "import keras\n",
        "from keras.preprocessing.image import ImageDataGenerator\n",
        "from keras.models import Sequential\n",
        "from keras.layers import Dense\n",
        "from keras.applications import VGG16\n",
        "from keras.applications.vgg16 import preprocess_input"
      ],
      "execution_count": null,
      "outputs": []
    },
    {
      "cell_type": "code",
      "metadata": {
        "id": "COsOIBKd3W1f"
      },
      "source": [
        "# DEFINE GLOBAL CONSTANTS\n",
        "num_classes = 2\n",
        "\n",
        "image_resize = 224\n",
        "batch_size_train = 128\n",
        "batch_size_valid = 128"
      ],
      "execution_count": null,
      "outputs": []
    },
    {
      "cell_type": "code",
      "metadata": {
        "scrolled": true,
        "colab": {
          "base_uri": "https://localhost:8080/"
        },
        "id": "5aeRqHsU3W1g",
        "outputId": "6968f9dd-1b28-4c0f-9465-a611b990bf98"
      },
      "source": [
        "# CONSTRUCT AN ImageDataGenerator\n",
        "data_generator = ImageDataGenerator(preprocessing_function = preprocess_input)\n",
        "\n",
        "\n",
        "# GETTING TRAINING IMAGES\n",
        "train_generator = data_generator.flow_from_directory(\n",
        "                                                     \"concrete_data_week4/train\",\n",
        "                                                      target_size = (image_resize, image_resize),\n",
        "                                                      batch_size = batch_size_train,\n",
        "                                                      class_mode = \"categorical\")\n",
        "\n",
        "# GETTING VALIDATION IMAGES\n",
        "valid_generator = data_generator.flow_from_directory(\n",
        "                                                     \"concrete_data_week4/valid\",\n",
        "                                                      target_size = (image_resize, image_resize),\n",
        "                                                      batch_size = batch_size_valid,\n",
        "                                                      class_mode = \"categorical\")"
      ],
      "execution_count": null,
      "outputs": [
        {
          "output_type": "stream",
          "text": [
            "Found 30001 images belonging to 2 classes.\n",
            "Found 9501 images belonging to 2 classes.\n"
          ],
          "name": "stdout"
        }
      ]
    },
    {
      "cell_type": "code",
      "metadata": {
        "id": "eSk23JUj3W1h"
      },
      "source": [
        "# CREATING SEQUENTIAL MODEL\n",
        "model = Sequential()"
      ],
      "execution_count": null,
      "outputs": []
    },
    {
      "cell_type": "code",
      "metadata": {
        "id": "FwYxiwkZ3W1i"
      },
      "source": [
        "model.add(VGG16(include_top = False, pooling = \"avg\", weights = \"imagenet\"))"
      ],
      "execution_count": null,
      "outputs": []
    },
    {
      "cell_type": "code",
      "metadata": {
        "id": "54cmEmKw3W1j"
      },
      "source": [
        "model.add(Dense(num_classes, activation = \"softmax\"))"
      ],
      "execution_count": null,
      "outputs": []
    },
    {
      "cell_type": "code",
      "metadata": {
        "id": "oiBqOKcg3W1k"
      },
      "source": [
        "# JUST FOR INFORMATION ABOUT CONSTRUCTION OF VGG16 PRE-TRAINED \n",
        "#model.layers\n",
        "model.layers[0].layers"
      ],
      "execution_count": null,
      "outputs": []
    },
    {
      "cell_type": "code",
      "metadata": {
        "id": "p0rbuKBa3W1l"
      },
      "source": [
        "model.layers[0].trainable = False\n",
        "model.summary()"
      ],
      "execution_count": null,
      "outputs": []
    },
    {
      "cell_type": "code",
      "metadata": {
        "id": "yaTwJ8Ug3W1m"
      },
      "source": [
        "model.compile(optimizer = \"adam\", loss = \"categorical_crossentropy\", metrics = [\"accuracy\"])"
      ],
      "execution_count": null,
      "outputs": []
    },
    {
      "cell_type": "code",
      "metadata": {
        "id": "R3UFT2DF3W1n"
      },
      "source": [
        "steps_per_epoch_train = len(train_generator)\n",
        "steps_per_epoch_valid = len(valid_generator)\n",
        "\n",
        "num_epochs = 2"
      ],
      "execution_count": null,
      "outputs": []
    },
    {
      "cell_type": "code",
      "metadata": {
        "colab": {
          "base_uri": "https://localhost:8080/"
        },
        "id": "03-NDmym3W1o",
        "outputId": "1cc9c602-6dae-4a04-fedd-a3b2cd7b0a82"
      },
      "source": [
        "history = model.fit_generator(train_generator,\n",
        "                   steps_per_epoch = steps_per_epoch_train,\n",
        "                   epochs = num_epochs,\n",
        "                   validation_data = valid_generator,\n",
        "                   validation_steps = steps_per_epoch_valid,\n",
        "                   verbose = 1)"
      ],
      "execution_count": null,
      "outputs": [
        {
          "output_type": "stream",
          "text": [
            "/usr/local/lib/python3.7/dist-packages/tensorflow/python/keras/engine/training.py:1844: UserWarning: `Model.fit_generator` is deprecated and will be removed in a future version. Please use `Model.fit`, which supports generators.\n",
            "  warnings.warn('`Model.fit_generator` is deprecated and '\n"
          ],
          "name": "stderr"
        },
        {
          "output_type": "stream",
          "text": [
            "Epoch 1/2\n",
            "235/235 [==============================] - 234s 782ms/step - loss: 0.6008 - accuracy: 0.8483 - val_loss: 0.0496 - val_accuracy: 0.9877\n",
            "Epoch 2/2\n",
            "235/235 [==============================] - 172s 733ms/step - loss: 0.0419 - accuracy: 0.9911 - val_loss: 0.0287 - val_accuracy: 0.9940\n"
          ],
          "name": "stdout"
        }
      ]
    },
    {
      "cell_type": "code",
      "metadata": {
        "id": "SJPzbzym3W1p"
      },
      "source": [
        "model.save(\"vgg16_cocnrete_classifier_model.h5\")"
      ],
      "execution_count": null,
      "outputs": []
    },
    {
      "cell_type": "code",
      "metadata": {
        "id": "_TcqXbfU3W1q"
      },
      "source": [
        "from google.colab import files\n"
      ],
      "execution_count": null,
      "outputs": []
    },
    {
      "cell_type": "markdown",
      "metadata": {
        "id": "LHVuGbVq3W1r"
      },
      "source": [
        "<a id=\"item43\"></a>"
      ]
    },
    {
      "cell_type": "markdown",
      "metadata": {
        "id": "uSm4dxiu3W1s"
      },
      "source": [
        "## Part 2"
      ]
    },
    {
      "cell_type": "markdown",
      "metadata": {
        "id": "PaEf8rHY3W1t"
      },
      "source": [
        "In this part, I will evaluate deep learning models on a test data.\n"
      ]
    },
    {
      "cell_type": "code",
      "metadata": {
        "id": "gONEpX2u3W1v"
      },
      "source": [
        "# model_resnet50 = files.upload()"
      ],
      "execution_count": null,
      "outputs": []
    },
    {
      "cell_type": "code",
      "metadata": {
        "id": "GjnWFFX1EFRb"
      },
      "source": [
        "# model_vgg16 = files.upload()"
      ],
      "execution_count": null,
      "outputs": []
    },
    {
      "cell_type": "code",
      "metadata": {
        "colab": {
          "base_uri": "https://localhost:8080/"
        },
        "id": "VWrLgRRr3W1v",
        "outputId": "d84e3755-46d7-430e-8320-d0d372e8ad8c"
      },
      "source": [
        "test_generator = data_generator.flow_from_directory(\n",
        "                                                     \"concrete_data_week4/test\",\n",
        "                                                      target_size = (image_resize, image_resize),\n",
        "                                                      shuffle = False)"
      ],
      "execution_count": null,
      "outputs": [
        {
          "output_type": "stream",
          "text": [
            "Found 500 images belonging to 2 classes.\n"
          ],
          "name": "stdout"
        }
      ]
    },
    {
      "cell_type": "code",
      "metadata": {
        "id": "_ph0a3BKf7mU"
      },
      "source": [
        "from keras.models import load_model"
      ],
      "execution_count": null,
      "outputs": []
    },
    {
      "cell_type": "code",
      "metadata": {
        "id": "qwrhhBkbcPRd"
      },
      "source": [
        "model_resnet = load_model(\"classifier_resnet_model.h5\")"
      ],
      "execution_count": null,
      "outputs": []
    },
    {
      "cell_type": "code",
      "metadata": {
        "id": "N8UsVfAl3W1y"
      },
      "source": [
        "model_vgg = load_model(\"vgg16_cocnrete_classifier_model.h5\")\n"
      ],
      "execution_count": null,
      "outputs": []
    },
    {
      "cell_type": "code",
      "metadata": {
        "id": "fctSWm_T3W1z"
      },
      "source": [
        "model_resnet.evaluate_generator(test_generator)"
      ],
      "execution_count": null,
      "outputs": []
    },
    {
      "cell_type": "code",
      "metadata": {
        "id": "p62l66RRatq6"
      },
      "source": [
        "model_vgg.evaluate_generator(test_generator)"
      ],
      "execution_count": null,
      "outputs": []
    },
    {
      "cell_type": "code",
      "metadata": {
        "id": "F9m2huSSiOb3"
      },
      "source": [
        ""
      ],
      "execution_count": null,
      "outputs": []
    },
    {
      "cell_type": "markdown",
      "metadata": {
        "id": "24KGmmos3W11"
      },
      "source": [
        "<a id=\"item44\"></a>"
      ]
    },
    {
      "cell_type": "markdown",
      "metadata": {
        "id": "x2nHbUIh3W11"
      },
      "source": [
        "## Part 3"
      ]
    },
    {
      "cell_type": "markdown",
      "metadata": {
        "id": "dmhEGCwK3W12"
      },
      "source": [
        "In this model, I will predict whether the images in the test data are images of cracked concrete or not.\n"
      ]
    },
    {
      "cell_type": "code",
      "metadata": {
        "id": "JXD9n-LS3W14"
      },
      "source": [
        "resnet_predict = model_resnet.predict_generator(test_generator)"
      ],
      "execution_count": null,
      "outputs": []
    },
    {
      "cell_type": "code",
      "metadata": {
        "id": "VkfC1uEu3W15"
      },
      "source": [
        "vgg16_predict = model_vgg.predict_generator(test_generator)"
      ],
      "execution_count": null,
      "outputs": []
    },
    {
      "cell_type": "code",
      "metadata": {
        "id": "kvesLWCH3W16"
      },
      "source": [
        " # label_map = (test_generator.class_indices)\r\n",
        " # vgg16_predict"
      ],
      "execution_count": null,
      "outputs": []
    },
    {
      "cell_type": "code",
      "metadata": {
        "id": "ohOfhaVssAbg"
      },
      "source": [
        "for i in range(0,500,100):\r\n",
        "  if vgg16_predict[i][0] > 0.5:\r\n",
        "    print(\"Negative\")\r\n",
        "  else:\r\n",
        "    print(\"Positive\")\r\n",
        "\r\n",
        "# vgg16_predict[345][0]"
      ],
      "execution_count": null,
      "outputs": []
    },
    {
      "cell_type": "code",
      "metadata": {
        "id": "kEu3YV0e3W16"
      },
      "source": [
        "for i in range(0,500,100):\r\n",
        "  if resnet_predict[i][0] > 0.5:\r\n",
        "    print(\"Negative\")\r\n",
        "  else:\r\n",
        "    print(\"Positive\")\r\n"
      ],
      "execution_count": null,
      "outputs": []
    }
  ]
}
